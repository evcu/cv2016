{
 "cells": [
  {
   "cell_type": "code",
   "execution_count": 2,
   "metadata": {
    "collapsed": true
   },
   "outputs": [],
   "source": [
    "tnt = require 'torchnet'\n",
    "image = require 'image'"
   ]
  },
  {
   "cell_type": "code",
   "execution_count": 1,
   "metadata": {
    "collapsed": false
   },
   "outputs": [],
   "source": [
    "train = torch.load('../data/train.t7')\n",
    "test = torch.load('../data/test.t7')\n",
    "DATA_PATH = \"../data\"\n",
    "WIDTH, HEIGHT = 32, 32"
   ]
  },
  {
   "cell_type": "code",
   "execution_count": 3,
   "metadata": {
    "collapsed": true
   },
   "outputs": [],
   "source": [
    "function resize(img)\n",
    "    return image.scale(img, WIDTH,HEIGHT)\n",
    "end\n",
    "\n",
    "function transformInput(inp)\n",
    "    f = tnt.transform.compose{\n",
    "        [1] = resize\n",
    "    }\n",
    "    return f(inp)\n",
    "end"
   ]
  },
  {
   "cell_type": "code",
   "execution_count": 4,
   "metadata": {
    "collapsed": true
   },
   "outputs": [],
   "source": [
    "function getTrainSample(dataset, idx)\n",
    "    r = dataset[idx]\n",
    "    classId, track, file = r[9], r[1], r[2]\n",
    "    file = string.format(\"%05d/%05d_%05d.ppm\", classId, track, file)\n",
    "    return transformInput(image.load(DATA_PATH .. '/train_images/'..file))\n",
    "end\n",
    "\n",
    "function getTrainLabel(dataset, idx)\n",
    "    return torch.LongTensor{dataset[idx][9]}\n",
    "end"
   ]
  },
  {
   "cell_type": "code",
   "execution_count": 5,
   "metadata": {
    "collapsed": true
   },
   "outputs": [],
   "source": [
    "function getTestSample(dataset, idx)\n",
    "    r = dataset[idx]\n",
    "    file = DATA_PATH .. \"/test_images/\" .. string.format(\"%05d.ppm\", r[1])\n",
    "    return transformInput(image.load(file))\n",
    "end"
   ]
  },
  {
   "cell_type": "code",
   "execution_count": 6,
   "metadata": {
    "collapsed": false
   },
   "outputs": [],
   "source": [
    "trainDataset = tnt.SplitDataset{\n",
    "    partitions = {train=0.9, val=0.1},\n",
    "    dataset = tnt.ShuffleDataset{\n",
    "        dataset = tnt.ListDataset{\n",
    "            list = torch.range(1, train:size(1)):long(),\n",
    "            load = function(idx)\n",
    "                return {\n",
    "                    input =  getTrainSample(train, idx),\n",
    "                    target = getTrainLabel(train, idx)\n",
    "                }\n",
    "            end\n",
    "        }\n",
    "    }\n",
    "}"
   ]
  },
  {
   "cell_type": "code",
   "execution_count": 9,
   "metadata": {
    "collapsed": true
   },
   "outputs": [],
   "source": [
    "function getIterator(dataset)\n",
    "    return tnt.DatasetIterator{\n",
    "        dataset = tnt.BatchDataset{\n",
    "            batchsize = 128,\n",
    "            dataset = dataset\n",
    "        }\n",
    "    }\n",
    "end"
   ]
  },
  {
   "cell_type": "code",
   "execution_count": 17,
   "metadata": {
    "collapsed": false
   },
   "outputs": [
    {
     "data": {
      "text/plain": [
       "\n"
      ]
     },
     "execution_count": 17,
     "metadata": {},
     "output_type": "execute_result"
    }
   ],
   "source": [
    "trainDataset:select('val')"
   ]
  },
  {
   "cell_type": "code",
   "execution_count": 18,
   "metadata": {
    "collapsed": false
   },
   "outputs": [],
   "source": [
    "iter = getIterator(trainDataset)"
   ]
  },
  {
   "cell_type": "code",
   "execution_count": 19,
   "metadata": {
    "collapsed": false
   },
   "outputs": [
    {
     "data": {
      "text/plain": [
       "3920\t\n"
      ]
     },
     "execution_count": 19,
     "metadata": {},
     "output_type": "execute_result"
    }
   ],
   "source": [
    "trainDataset:size()"
   ]
  },
  {
   "cell_type": "code",
   "execution_count": 23,
   "metadata": {
    "collapsed": false
   },
   "outputs": [
    {
     "data": {
      "text/plain": [
       "39208\t\n"
      ]
     },
     "execution_count": 23,
     "metadata": {},
     "output_type": "execute_result"
    }
   ],
   "source": [
    "(35288+3920)"
   ]
  },
  {
   "cell_type": "code",
   "execution_count": 21,
   "metadata": {
    "collapsed": false
   },
   "outputs": [
    {
     "data": {
      "text/plain": [
       "30.625\t\n"
      ]
     },
     "execution_count": 21,
     "metadata": {},
     "output_type": "execute_result"
    }
   ],
   "source": [
    "3920/128"
   ]
  },
  {
   "cell_type": "code",
   "execution_count": 22,
   "metadata": {
    "collapsed": false
   },
   "outputs": [
    {
     "data": {
      "text/plain": [
       "275.6875\t\n"
      ]
     },
     "execution_count": 22,
     "metadata": {},
     "output_type": "execute_result"
    }
   ],
   "source": [
    "35288/128"
   ]
  },
  {
   "cell_type": "code",
   "execution_count": 18,
   "metadata": {
    "collapsed": false
   },
   "outputs": [
    {
     "data": {
      "text/plain": [
       "\n"
      ]
     },
     "execution_count": 18,
     "metadata": {},
     "output_type": "execute_result"
    }
   ],
   "source": [
    "iter.dataset"
   ]
  },
  {
   "cell_type": "code",
   "execution_count": null,
   "metadata": {
    "collapsed": true
   },
   "outputs": [],
   "source": []
  }
 ],
 "metadata": {
  "kernelspec": {
   "display_name": "iTorch",
   "language": "lua",
   "name": "itorch"
  },
  "language_info": {
   "name": "lua",
   "version": "5.1"
  }
 },
 "nbformat": 4,
 "nbformat_minor": 0
}
