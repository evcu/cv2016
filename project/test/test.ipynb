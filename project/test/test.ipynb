{
 "cells": [
  {
   "cell_type": "code",
   "execution_count": 2,
   "metadata": {
    "collapsed": false
   },
   "outputs": [
    {
     "ename": "[string \"tnt = require 'torchnet'...\"]:6: module 'PruningLayer' not found:\n\tno field package.preload['PruningLayer']\n\tno file '/Users/evcu/.luarocks/share/lua/5.1/PruningLayer.lua'\n\tno file '/Users/evcu/.luarocks/share/lua/5.1/PruningLayer/init.lua'\n\tno file '/Users/evcu/torch/install/share/lua/5.1/PruningLayer.lua'\n\tno file '/Users/evcu/torch/install/share/lua/5.1/PruningLayer/init.lua'\n\tno file './PruningLayer.lua'\n\tno file '/Users/evcu/torch/install/share/luajit-2.1.0-beta1/PruningLayer.lua'\n\tno file '/usr/local/share/lua/5.1/PruningLayer.lua'\n\tno file '/usr/local/share/lua/5.1/PruningLayer/init.lua'\n\tno file '/Users/evcu/torch/install/lib/PruningLayer.dylib'\n\tno file '/Users/evcu/.luarocks/lib/lua/5.1/PruningLayer.so'\n\tno file '/Users/evcu/torch/install/lib/lua/5.1/PruningLayer.so'\n\tno file './PruningLayer.so'\n\tno file '/usr/local/lib/lua/5.1/PruningLayer.so'\n\tno file '/usr/local/lib/lua/5.1/loadall.so'\nstack traceback:\n\t[C]: in function 'require'\n\t[string \"tnt = require 'torchnet'...\"]:6: in main chunk\n\t[C]: in function 'xpcall'\n\t/Users/evcu/torch/install/share/lua/5.1/itorch/main.lua:210: in function </Users/evcu/torch/install/share/lua/5.1/itorch/main.lua:174>\n\t/Users/evcu/torch/install/share/lua/5.1/lzmq/poller.lua:75: in function 'poll'\n\t/Users/evcu/torch/install/share/lua/5.1/lzmq/impl/loop.lua:307: in function 'poll'\n\t/Users/evcu/torch/install/share/lua/5.1/lzmq/impl/loop.lua:325: in function 'sleep_ex'\n\t/Users/evcu/torch/install/share/lua/5.1/lzmq/impl/loop.lua:370: in function 'start'\n\t/Users/evcu/torch/install/share/lua/5.1/itorch/main.lua:389: in main chunk\n\t[C]: in function 'require'\n\t(command line):1: in main chunk\n\t[C]: at 0x010cd38360",
     "evalue": "",
     "output_type": "error",
     "traceback": [
      "[string \"tnt = require 'torchnet'...\"]:6: module 'PruningLayer' not found:\n\tno field package.preload['PruningLayer']\n\tno file '/Users/evcu/.luarocks/share/lua/5.1/PruningLayer.lua'\n\tno file '/Users/evcu/.luarocks/share/lua/5.1/PruningLayer/init.lua'\n\tno file '/Users/evcu/torch/install/share/lua/5.1/PruningLayer.lua'\n\tno file '/Users/evcu/torch/install/share/lua/5.1/PruningLayer/init.lua'\n\tno file './PruningLayer.lua'\n\tno file '/Users/evcu/torch/install/share/luajit-2.1.0-beta1/PruningLayer.lua'\n\tno file '/usr/local/share/lua/5.1/PruningLayer.lua'\n\tno file '/usr/local/share/lua/5.1/PruningLayer/init.lua'\n\tno file '/Users/evcu/torch/install/lib/PruningLayer.dylib'\n\tno file '/Users/evcu/.luarocks/lib/lua/5.1/PruningLayer.so'\n\tno file '/Users/evcu/torch/install/lib/lua/5.1/PruningLayer.so'\n\tno file './PruningLayer.so'\n\tno file '/usr/local/lib/lua/5.1/PruningLayer.so'\n\tno file '/usr/local/lib/lua/5.1/loadall.so'\nstack traceback:\n\t[C]: in function 'require'\n\t[string \"tnt = require 'torchnet'...\"]:6: in main chunk\n\t[C]: in function 'xpcall'\n\t/Users/evcu/torch/install/share/lua/5.1/itorch/main.lua:210: in function </Users/evcu/torch/install/share/lua/5.1/itorch/main.lua:174>\n\t/Users/evcu/torch/install/share/lua/5.1/lzmq/poller.lua:75: in function 'poll'\n\t/Users/evcu/torch/install/share/lua/5.1/lzmq/impl/loop.lua:307: in function 'poll'\n\t/Users/evcu/torch/install/share/lua/5.1/lzmq/impl/loop.lua:325: in function 'sleep_ex'\n\t/Users/evcu/torch/install/share/lua/5.1/lzmq/impl/loop.lua:370: in function 'start'\n\t/Users/evcu/torch/install/share/lua/5.1/itorch/main.lua:389: in main chunk\n\t[C]: in function 'require'\n\t(command line):1: in main chunk\n\t[C]: at 0x010cd38360"
     ]
    }
   ],
   "source": [
    "tnt = require 'torchnet'\n",
    "mnist = require 'mnist'\n",
    "trainset = mnist.traindataset()\n",
    "testset = mnist.testdataset()\n",
    "local nn = require 'nn'\n",
    "local pl = require('PruningLayer')\n",
    "\n",
    "function getAcc(model)\n",
    "    csum = 0\n",
    "    for idx = 1,testset.data:size(1) do\n",
    "        x = testset.data[{{idx},{},{}}]:double():div(256)\n",
    "        y = model:forward(x)\n",
    "        _,ind = torch.max(y,1)\n",
    "        if ind[1] ~= testset.label[idx]+1 then \n",
    "            csum = csum + 1 \n",
    "        end\n",
    "    end\n",
    "print(csum/testset.data:size(1)*100)    \n",
    "end\n",
    "\n",
    "model = torch.load('../logs/lenet5.t7')\n",
    "l = model:get(1).weight\n",
    "thres = 0.01\n",
    "print(torch.sum(torch.abs(l):gt(thres))/torch.numel(l)*100 ..'% retained')\n",
    "model:insert(nn.PruningLayer(torch.abs(l):gt(thres):double()),2)\n",
    "print(model:get(1))\n",
    "getAcc(model)\n"
   ]
  },
  {
   "cell_type": "code",
   "execution_count": 11,
   "metadata": {
    "collapsed": false
   },
   "outputs": [
    {
     "data": {
      "text/plain": [
       "reset! made l#40\t\n",
       "torch.DoubleTensor\t\n"
      ]
     },
     "execution_count": 11,
     "metadata": {},
     "output_type": "execute_result"
    }
   ],
   "source": [
    "local nn = require 'nn'\n",
    "local pl = require('PrunedConv')\n",
    "a=nn.PrunedConv(1,3,5,5)\n",
    "print(a:type())\n",
    "--b=a:forward(torch.Tensor(1,7,7))"
   ]
  },
  {
   "cell_type": "code",
   "execution_count": 4,
   "metadata": {
    "collapsed": false
   },
   "outputs": [
    {
     "data": {
      "text/plain": [
       "(1,1,.,.) = \n",
       " -0.0000  0.0000  0.0000  0.0000 -0.3197\n",
       " -0.0000  0.2284  0.3921  0.0000 -0.0000\n",
       "  0.3095  0.5241  0.0000  0.3598 -0.0000\n",
       "  0.2235  0.0000  0.0000 -0.0000  0.0000\n",
       "  0.0000 -0.0000 -0.0000 -0.2852  0.0000\n",
       "\n",
       "(2,1,.,.) = \n",
       " -0.2180  0.0000  0.0000  0.0000 -0.0000\n",
       "  0.2447  0.5476  0.3379 -0.0000 -0.3374\n",
       "  0.2957  0.7101  0.4206 -0.0000 -0.3555\n",
       "  0.3359  0.0000  0.2173 -0.0000 -0.3229\n",
       " -0.0000  0.0000 -0.0000  0.0000 -0.0000\n",
       "\n",
       "(3,1,.,.) = \n",
       "  0.0000  0.0000  0.4929  0.6855  0.5130\n",
       "  0.0000  0.0000  0.0000  0.3102  0.0000\n",
       "  0.0000 -0.4032 -0.5354 -0.0000  0.0000\n",
       " -0.2518 -0.5689 -0.4816 -0.3946  0.0000\n",
       " -0.2704 -0.0000  0.0000 -0.0000 -0.0000\n",
       "\n",
       "(4,1,.,.) = \n",
       "  0.5168  0.3521  0.0000  0.0000  0.0000\n",
       "  0.6101  0.5416  0.0000  0.3295  0.4718\n",
       "  0.2906  0.0000 -0.3051  0.0000  0.2307\n",
       "  0.0000 -0.4884 -0.6337 -0.4665 -0.4803\n",
       " -0.2987 -0.6242 -0.4505 -0.2537 -0.4306\n",
       "\n",
       "(5,1,.,.) = \n",
       " -0.2284  0.0000  0.0000  0.0000 -0.0000\n",
       "  0.0000  0.4080  0.4937  0.4407  0.4123\n",
       "  0.5435  0.4209  0.4245  0.3776  0.3074\n",
       "  0.0000 -0.0000 -0.0000  0.0000  0.0000\n",
       " -0.4573 -0.5745 -0.6145 -0.5458 -0.0000\n",
       "\n",
       "(6,1,.,.) = \n",
       "  0.0000  0.0000 -0.2635  0.0000  0.0000\n",
       "  0.0000  0.2920 -0.0000 -0.0000  0.0000\n",
       "  0.3497  0.3905  0.0000  0.3923  0.4705\n",
       "  0.6048  0.0000  0.3853  0.6477  0.4269\n",
       "  0.2241  0.0000 -0.0000 -0.0000  0.2652\n",
       "[torch.DoubleTensor of size 6x1x5x5]\n",
       "\n"
      ]
     },
     "execution_count": 4,
     "metadata": {},
     "output_type": "execute_result"
    },
    {
     "data": {
      "text/plain": [
       "(1,1,.,.) = \n",
       " -0.1109  0.1670  0.2116  0.0214 -0.3194\n",
       " -0.0780  0.2284  0.3921  0.0397 -0.0979\n",
       "  0.3097  0.5239  0.1518  0.3597 -0.0814\n",
       "  0.2234  0.1961  0.0292 -0.0316  0.0803\n",
       "  0.0374 -0.0833 -0.2156 -0.2856  0.1084\n",
       "\n",
       "(2,1,.,.) = \n",
       " -0.2171 -0.0063 -0.0824 -0.1242 -0.1708\n",
       "  0.2455  0.5486  0.3395 -0.1130 -0.3356\n",
       "  0.2961  0.7108  0.4222 -0.1908 -0.3541\n",
       "  0.3360  0.1662  0.2183 -0.0064 -0.3220\n",
       " -0.0202  0.1879 -0.0763  0.0068 -0.1296\n",
       "\n",
       "(3,1,.,.) = \n",
       "  0.2147  0.0340  0.4902  0.6834  0.5116\n",
       "  0.1343  0.0703  0.0601  0.3086  0.1409\n",
       " -0.1170 -0.4047 -0.5361 -0.1137  0.0931\n",
       " -0.2535 -0.5697 -0.4820 -0.3951  0.0240\n",
       " -0.2715 -0.0198  0.0004 -0.0857 -0.0539\n",
       "\n",
       "(4,1,.,.) = \n",
       "  0.5147  0.3491  0.1208  0.0756  0.0367\n",
       "  0.6070  0.5380  0.0628  0.3265  0.4688\n",
       "  0.2871  0.2105 -0.3077 -0.0314  0.2280\n",
       "  0.1576 -0.4910 -0.6354 -0.4679 -0.4820\n",
       " -0.3009 -0.6262 -0.4521 -0.2550 -0.4320\n",
       "\n",
       "(5,1,.,.) = \n",
       " -0.2286 -0.0298  0.0338  0.1839 -0.0162\n",
       "  0.1750  0.4081  0.4944  0.4415  0.4140\n",
       "  0.5432  0.4221  0.4261  0.3791  0.3094\n",
       " -0.0391 -0.2168 -0.0596  0.0284  0.0155\n",
       " -0.4560 -0.5726 -0.6126 -0.5438 -0.1926\n",
       "\n",
       "(6,1,.,.) = \n",
       " -0.1047 -0.0446 -0.2620 -0.2119  0.0314\n",
       "  0.1245  0.2931 -0.0323 -0.0964  0.1171\n",
       "  0.3502  0.3907  0.1172  0.3926  0.4708\n",
       "  0.6046  0.1838  0.3851  0.6475  0.4267\n",
       "  0.2239  0.1134 -0.1631 -0.1036  0.2648\n",
       "[torch.DoubleTensor of size 6x1x5x5]\n",
       "\n"
      ]
     },
     "execution_count": 4,
     "metadata": {},
     "output_type": "execute_result"
    }
   ],
   "source": [
    "model = torch.load('../logs/lenet5.t7pruned')\n",
    "print(model:get(1).weight)\n",
    "\n",
    "model2 = torch.load('../logs/lenet5.t7')\n",
    "print(model2:get(1).weight)"
   ]
  },
  {
   "cell_type": "code",
   "execution_count": 20,
   "metadata": {
    "collapsed": false
   },
   "outputs": [
    {
     "ename": "[string \"print(math.inf<4)...\"]:1: attempt to compare nil with number\nstack traceback:\n\t[string \"print(math.inf<4)...\"]:1: in main chunk\n\t[C]: in function 'xpcall'\n\t/Users/evcu/torch/install/share/lua/5.1/itorch/main.lua:210: in function </Users/evcu/torch/install/share/lua/5.1/itorch/main.lua:174>\n\t/Users/evcu/torch/install/share/lua/5.1/lzmq/poller.lua:75: in function 'poll'\n\t/Users/evcu/torch/install/share/lua/5.1/lzmq/impl/loop.lua:307: in function 'poll'\n\t/Users/evcu/torch/install/share/lua/5.1/lzmq/impl/loop.lua:325: in function 'sleep_ex'\n\t/Users/evcu/torch/install/share/lua/5.1/lzmq/impl/loop.lua:370: in function 'start'\n\t/Users/evcu/torch/install/share/lua/5.1/itorch/main.lua:389: in main chunk\n\t[C]: in function 'require'\n\t(command line):1: in main chunk\n\t[C]: at 0x010cd38360",
     "evalue": "",
     "output_type": "error",
     "traceback": [
      "[string \"print(math.inf<4)...\"]:1: attempt to compare nil with number\nstack traceback:\n\t[string \"print(math.inf<4)...\"]:1: in main chunk\n\t[C]: in function 'xpcall'\n\t/Users/evcu/torch/install/share/lua/5.1/itorch/main.lua:210: in function </Users/evcu/torch/install/share/lua/5.1/itorch/main.lua:174>\n\t/Users/evcu/torch/install/share/lua/5.1/lzmq/poller.lua:75: in function 'poll'\n\t/Users/evcu/torch/install/share/lua/5.1/lzmq/impl/loop.lua:307: in function 'poll'\n\t/Users/evcu/torch/install/share/lua/5.1/lzmq/impl/loop.lua:325: in function 'sleep_ex'\n\t/Users/evcu/torch/install/share/lua/5.1/lzmq/impl/loop.lua:370: in function 'start'\n\t/Users/evcu/torch/install/share/lua/5.1/itorch/main.lua:389: in main chunk\n\t[C]: in function 'require'\n\t(command line):1: in main chunk\n\t[C]: at 0x010cd38360"
     ]
    }
   ],
   "source": [
    "print(math.inf<4)\n"
   ]
  },
  {
   "cell_type": "code",
   "execution_count": null,
   "metadata": {
    "collapsed": true
   },
   "outputs": [],
   "source": []
  }
 ],
 "metadata": {
  "kernelspec": {
   "display_name": "iTorch",
   "language": "lua",
   "name": "itorch"
  },
  "language_info": {
   "name": "lua",
   "version": "5.1"
  }
 },
 "nbformat": 4,
 "nbformat_minor": 1
}
