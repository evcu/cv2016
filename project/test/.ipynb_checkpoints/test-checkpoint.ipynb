{
 "cells": [
  {
   "cell_type": "code",
   "execution_count": 10,
   "metadata": {
    "collapsed": false
   },
   "outputs": [
    {
     "data": {
      "text/plain": [
       "97.333333333333% retained\t\n",
       "nn.SpatialConvolution(1 -> 6, 5x5, 1,1, 2,2)\n",
       "{\n",
       "  padW : 2\n",
       "  nInputPlane : 1\n",
       "  output : DoubleTensor - empty\n",
       "  gradInput : DoubleTensor - empty\n",
       "  _type : torch.DoubleTensor\n",
       "  gradBias : DoubleTensor - size: 6\n",
       "  dW : 1\n",
       "  nOutputPlane : 6\n",
       "  padH : 2\n",
       "  kH : 5\n",
       "  finput : DoubleTensor - empty\n",
       "  weight : DoubleTensor - size: 6x1x5x5\n"
      ]
     },
     "execution_count": 10,
     "metadata": {},
     "output_type": "execute_result"
    },
    {
     "data": {
      "text/plain": [
       "  train : false\n",
       "  gradWeight : DoubleTensor - size: 6x1x5x5\n",
       "  kW : 5\n",
       "  dH : 1\n",
       "  bias : DoubleTensor - size: 6\n",
       "  fgradInput : DoubleTensor - empty\n",
       "}\n"
      ]
     },
     "execution_count": 10,
     "metadata": {},
     "output_type": "execute_result"
    },
    {
     "ename": "/Users/evcu/torch/install/share/lua/5.1/nn/Container.lua:67: \nIn 2 module of nn.Sequential:\n./PruningLayer.lua:16: attempt to index global 'mask' (a nil value)\nstack traceback:\n\t./PruningLayer.lua:16: in function <./PruningLayer.lua:10>\n\t[C]: in function 'xpcall'\n\t/Users/evcu/torch/install/share/lua/5.1/nn/Container.lua:63: in function 'rethrowErrors'\n\t/Users/evcu/torch/install/share/lua/5.1/nn/Sequential.lua:44: in function 'forward'\n\t[string \"tnt = require 'torchnet'...\"]:12: in function 'getAcc'\n\t[string \"tnt = require 'torchnet'...\"]:27: in main chunk\n\t[C]: in function 'xpcall'\n\t/Users/evcu/torch/install/share/lua/5.1/itorch/main.lua:210: in function </Users/evcu/torch/install/share/lua/5.1/itorch/main.lua:174>\n\t/Users/evcu/torch/install/share/lua/5.1/lzmq/poller.lua:75: in function 'poll'\n\t/Users/evcu/torch/install/share/lua/5.1/lzmq/impl/loop.lua:307: in function 'poll'\n\t/Users/evcu/torch/install/share/lua/5.1/lzmq/impl/loop.lua:325: in function 'sleep_ex'\n\t/Users/evcu/torch/install/share/lua/5.1/lzmq/impl/loop.lua:370: in function 'start'\n\t/Users/evcu/torch/install/share/lua/5.1/itorch/main.lua:389: in main chunk\n\t[C]: in function 'require'\n\t(command line):1: in main chunk\n\t[C]: at 0x0106757360\n\nWARNING: If you see a stack trace below, it doesn't point to the place where this error occurred. Please use only the one above.\nstack traceback:\n\t[C]: in function 'error'\n\t/Users/evcu/torch/install/share/lua/5.1/nn/Container.lua:67: in function 'rethrowErrors'\n\t/Users/evcu/torch/install/share/lua/5.1/nn/Sequential.lua:44: in function 'forward'\n\t[string \"tnt = require 'torchnet'...\"]:12: in function 'getAcc'\n\t[string \"tnt = require 'torchnet'...\"]:27: in main chunk\n\t[C]: in function 'xpcall'\n\t/Users/evcu/torch/install/share/lua/5.1/itorch/main.lua:210: in function </Users/evcu/torch/install/share/lua/5.1/itorch/main.lua:174>\n\t/Users/evcu/torch/install/share/lua/5.1/lzmq/poller.lua:75: in function 'poll'\n\t/Users/evcu/torch/install/share/lua/5.1/lzmq/impl/loop.lua:307: in function 'poll'\n\t/Users/evcu/torch/install/share/lua/5.1/lzmq/impl/loop.lua:325: in function 'sleep_ex'\n\t/Users/evcu/torch/install/share/lua/5.1/lzmq/impl/loop.lua:370: in function 'start'\n\t/Users/evcu/torch/install/share/lua/5.1/itorch/main.lua:389: in main chunk\n\t[C]: in function 'require'\n\t(command line):1: in main chunk\n\t[C]: at 0x0106757360",
     "evalue": "",
     "output_type": "error",
     "traceback": [
      "/Users/evcu/torch/install/share/lua/5.1/nn/Container.lua:67: \nIn 2 module of nn.Sequential:\n./PruningLayer.lua:16: attempt to index global 'mask' (a nil value)\nstack traceback:\n\t./PruningLayer.lua:16: in function <./PruningLayer.lua:10>\n\t[C]: in function 'xpcall'\n\t/Users/evcu/torch/install/share/lua/5.1/nn/Container.lua:63: in function 'rethrowErrors'\n\t/Users/evcu/torch/install/share/lua/5.1/nn/Sequential.lua:44: in function 'forward'\n\t[string \"tnt = require 'torchnet'...\"]:12: in function 'getAcc'\n\t[string \"tnt = require 'torchnet'...\"]:27: in main chunk\n\t[C]: in function 'xpcall'\n\t/Users/evcu/torch/install/share/lua/5.1/itorch/main.lua:210: in function </Users/evcu/torch/install/share/lua/5.1/itorch/main.lua:174>\n\t/Users/evcu/torch/install/share/lua/5.1/lzmq/poller.lua:75: in function 'poll'\n\t/Users/evcu/torch/install/share/lua/5.1/lzmq/impl/loop.lua:307: in function 'poll'\n\t/Users/evcu/torch/install/share/lua/5.1/lzmq/impl/loop.lua:325: in function 'sleep_ex'\n\t/Users/evcu/torch/install/share/lua/5.1/lzmq/impl/loop.lua:370: in function 'start'\n\t/Users/evcu/torch/install/share/lua/5.1/itorch/main.lua:389: in main chunk\n\t[C]: in function 'require'\n\t(command line):1: in main chunk\n\t[C]: at 0x0106757360\n\nWARNING: If you see a stack trace below, it doesn't point to the place where this error occurred. Please use only the one above.\nstack traceback:\n\t[C]: in function 'error'\n\t/Users/evcu/torch/install/share/lua/5.1/nn/Container.lua:67: in function 'rethrowErrors'\n\t/Users/evcu/torch/install/share/lua/5.1/nn/Sequential.lua:44: in function 'forward'\n\t[string \"tnt = require 'torchnet'...\"]:12: in function 'getAcc'\n\t[string \"tnt = require 'torchnet'...\"]:27: in main chunk\n\t[C]: in function 'xpcall'\n\t/Users/evcu/torch/install/share/lua/5.1/itorch/main.lua:210: in function </Users/evcu/torch/install/share/lua/5.1/itorch/main.lua:174>\n\t/Users/evcu/torch/install/share/lua/5.1/lzmq/poller.lua:75: in function 'poll'\n\t/Users/evcu/torch/install/share/lua/5.1/lzmq/impl/loop.lua:307: in function 'poll'\n\t/Users/evcu/torch/install/share/lua/5.1/lzmq/impl/loop.lua:325: in function 'sleep_ex'\n\t/Users/evcu/torch/install/share/lua/5.1/lzmq/impl/loop.lua:370: in function 'start'\n\t/Users/evcu/torch/install/share/lua/5.1/itorch/main.lua:389: in main chunk\n\t[C]: in function 'require'\n\t(command line):1: in main chunk\n\t[C]: at 0x0106757360"
     ]
    }
   ],
   "source": [
    "tnt = require 'torchnet'\n",
    "mnist = require 'mnist'\n",
    "trainset = mnist.traindataset()\n",
    "testset = mnist.testdataset()\n",
    "local nn = require 'nn'\n",
    "local pl = require('PruningLayer')\n",
    "\n",
    "function getAcc(model)\n",
    "    csum = 0\n",
    "    for idx = 1,testset.data:size(1) do\n",
    "        x = testset.data[{{idx},{},{}}]:double():div(256)\n",
    "        y = model:forward(x)\n",
    "        _,ind = torch.max(y,1)\n",
    "        if ind[1] ~= testset.label[idx]+1 then \n",
    "            csum = csum + 1 \n",
    "        end\n",
    "    end\n",
    "print(csum/testset.data:size(1)*100)    \n",
    "end\n",
    "\n",
    "model = torch.load('../logs/lenet5.t7')\n",
    "l = model:get(1).weight\n",
    "thres = 0.01\n",
    "print(torch.sum(torch.abs(l):gt(thres))/torch.numel(l)*100 ..'% retained')\n",
    "model:insert(nn.PruningLayer(torch.abs(l):gt(thres):double()),2)\n",
    "print(model:get(1))\n",
    "getAcc(model)\n"
   ]
  },
  {
   "cell_type": "code",
   "execution_count": 11,
   "metadata": {
    "collapsed": false
   },
   "outputs": [
    {
     "data": {
      "text/plain": [
       "reset! made l#40\t\n",
       "torch.DoubleTensor\t\n"
      ]
     },
     "execution_count": 11,
     "metadata": {},
     "output_type": "execute_result"
    }
   ],
   "source": [
    "local nn = require 'nn'\n",
    "local pl = require('PrunedConv')\n",
    "a=nn.PrunedConv(1,3,5,5)\n",
    "print(a:type())\n",
    "--b=a:forward(torch.Tensor(1,7,7))"
   ]
  },
  {
   "cell_type": "code",
   "execution_count": 20,
   "metadata": {
    "collapsed": false
   },
   "outputs": [
    {
     "data": {
      "text/plain": [
       "(1,1,.,.) = \n",
       " -0.0000  0.0000  0.2134  0.0000 -0.3197\n",
       " -0.0000  0.2305  0.3935  0.0000 -0.0000\n",
       "  0.3123  0.5260  0.0000  0.3603 -0.0000\n",
       "  0.2268  0.0000  0.0000 -0.0000  0.0000\n",
       "  0.0000 -0.0000 -0.2140 -0.2852  0.0000\n",
       "\n",
       "(2,1,.,.) = \n",
       " -0.2176 -0.0000 -0.0000 -0.0000 -0.0000\n",
       "  0.2453  0.5472  0.3365 -0.0000 -0.3397\n",
       "  0.2964  0.7099  0.4196 -0.0000 -0.3579\n",
       "  0.3371  0.0000  0.2167 -0.0000 -0.3252\n",
       " -0.0000  0.0000 -0.0000  0.0000 -0.0000\n",
       "\n",
       "(3,1,.,.) = \n",
       "  0.2114  0.0000  0.4864  0.6788  0.5076\n",
       "  0.0000  0.0000  0.0000  0.3052  0.0000\n",
       " -0.0000 -0.4067 -0.5391 -0.0000  0.0000\n",
       " -0.2559 -0.5723 -0.4856 -0.3984  0.0000\n",
       " -0.2742 -0.0000  0.0000 -0.0000 -0.0000\n",
       "\n",
       "(4,1,.,.) = \n",
       "  0.5185  0.3526  0.0000  0.0000  0.0000\n",
       "  0.6108  0.5412  0.0000  0.3275  0.4692\n",
       "  0.2916  0.2140 -0.3062 -0.0000  0.2283\n",
       "  0.0000 -0.4881 -0.6345 -0.4680 -0.4822\n",
       " -0.2974 -0.6239 -0.4512 -0.2548 -0.4317\n",
       "\n",
       "(5,1,.,.) = \n",
       " -0.2273  0.0000  0.0000  0.0000 -0.0000\n",
       "  0.0000  0.4108  0.4964  0.4421  0.4121\n",
       "  0.5461  0.4247  0.4283  0.3798  0.3079\n",
       "  0.0000 -0.2137  0.0000  0.0000  0.0000\n",
       " -0.4526 -0.5692 -0.6092 -0.5419 -0.0000\n",
       "\n",
       "(6,1,.,.) = \n",
       " -0.0000 -0.0000 -0.2594 -0.2094  0.0000\n",
       "  0.0000  0.2959 -0.0000 -0.0000  0.0000\n",
       "  0.3530  0.3931  0.0000  0.3942  0.4728\n",
       "  0.6080  0.0000  0.3868  0.6493  0.4287\n",
       "  0.2274  0.0000 -0.0000  0.0000  0.2672\n",
       "[torch.DoubleTensor of size 6x1x5x5]\n",
       "\n"
      ]
     },
     "execution_count": 20,
     "metadata": {},
     "output_type": "execute_result"
    }
   ],
   "source": [
    "model = torch.load('../logs/lenet5.t7pruned')\n",
    "print(model:get(1).weight)"
   ]
  },
  {
   "cell_type": "code",
   "execution_count": null,
   "metadata": {
    "collapsed": true
   },
   "outputs": [],
   "source": [
    "a"
   ]
  }
 ],
 "metadata": {
  "kernelspec": {
   "display_name": "iTorch",
   "language": "lua",
   "name": "itorch"
  },
  "language_info": {
   "name": "lua",
   "version": "5.1"
  }
 },
 "nbformat": 4,
 "nbformat_minor": 1
}
